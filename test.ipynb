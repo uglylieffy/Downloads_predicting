{
 "cells": [
  {
   "cell_type": "markdown",
   "metadata": {},
   "source": [
    "### Code for Predicting Downloads Status with views, likes and downloads\n",
    "###### Produced by Yuqi Yang"
   ]
  },
  {
   "cell_type": "code",
   "execution_count": 202,
   "metadata": {},
   "outputs": [],
   "source": [
    "import pandas as pd\n",
    "\n",
    "# Read raw dataset from csv file\n",
    "path_to_data = './data/Cln_web_scrap_sf.xlsx'\n",
    "rawDF = pd.read_excel(path_to_data)"
   ]
  },
  {
   "cell_type": "code",
   "execution_count": 203,
   "metadata": {},
   "outputs": [
    {
     "data": {
      "text/plain": [
       "Downloads\n",
       "1.0       7\n",
       "13.0      6\n",
       "32.0      6\n",
       "14.0      6\n",
       "7.0       5\n",
       "         ..\n",
       "59.0      1\n",
       "229.0     1\n",
       "3294.0    1\n",
       "3140.0    1\n",
       "108.0     1\n",
       "Name: count, Length: 144, dtype: int64"
      ]
     },
     "execution_count": 203,
     "metadata": {},
     "output_type": "execute_result"
    }
   ],
   "source": [
    "# Distribution of target feature\n",
    "rawDF['Downloads'].value_counts()"
   ]
  },
  {
   "cell_type": "code",
   "execution_count": 204,
   "metadata": {},
   "outputs": [
    {
     "name": "stdout",
     "output_type": "stream",
     "text": [
      "<class 'pandas.core.frame.DataFrame'>\n",
      "Index: 261 entries, 5 to 399\n",
      "Data columns (total 8 columns):\n",
      " #   Column                  Non-Null Count  Dtype  \n",
      "---  ------                  --------------  -----  \n",
      " 0   Paid                    261 non-null    int64  \n",
      " 1   Downloads               261 non-null    float64\n",
      " 2   Views                   261 non-null    int64  \n",
      " 3   Likes                   261 non-null    int64  \n",
      " 4   Duration(Days)          261 non-null    int64  \n",
      " 5   Avg_Downloads_per_year  261 non-null    float64\n",
      " 6   Avg_Views_per_year      261 non-null    float64\n",
      " 7   Avg_Likes_per_year      261 non-null    float64\n",
      "dtypes: float64(4), int64(4)\n",
      "memory usage: 18.4 KB\n"
     ]
    }
   ],
   "source": [
    "# Data scheme of the raw dataset (data type for each column)\n",
    "rawDF = rawDF.drop(['Title', 'Date', 'Price'],axis=1)\n",
    "rawDF.dropna(axis=0, inplace=True, subset=['Downloads'])\n",
    "rawDF.info()\n"
   ]
  },
  {
   "cell_type": "code",
   "execution_count": 205,
   "metadata": {},
   "outputs": [
    {
     "data": {
      "text/html": [
       "<div>\n",
       "<style scoped>\n",
       "    .dataframe tbody tr th:only-of-type {\n",
       "        vertical-align: middle;\n",
       "    }\n",
       "\n",
       "    .dataframe tbody tr th {\n",
       "        vertical-align: top;\n",
       "    }\n",
       "\n",
       "    .dataframe thead th {\n",
       "        text-align: right;\n",
       "    }\n",
       "</style>\n",
       "<table border=\"1\" class=\"dataframe\">\n",
       "  <thead>\n",
       "    <tr style=\"text-align: right;\">\n",
       "      <th></th>\n",
       "      <th>Paid</th>\n",
       "      <th>Downloads</th>\n",
       "      <th>Views</th>\n",
       "      <th>Likes</th>\n",
       "      <th>Duration(Days)</th>\n",
       "      <th>Avg_Downloads_per_year</th>\n",
       "      <th>Avg_Views_per_year</th>\n",
       "      <th>Avg_Likes_per_year</th>\n",
       "    </tr>\n",
       "  </thead>\n",
       "  <tbody>\n",
       "    <tr>\n",
       "      <th>count</th>\n",
       "      <td>261.0</td>\n",
       "      <td>261.000000</td>\n",
       "      <td>261.000000</td>\n",
       "      <td>261.000000</td>\n",
       "      <td>261.000000</td>\n",
       "      <td>261.000000</td>\n",
       "      <td>261.000000</td>\n",
       "      <td>261.000000</td>\n",
       "    </tr>\n",
       "    <tr>\n",
       "      <th>mean</th>\n",
       "      <td>0.0</td>\n",
       "      <td>295.931034</td>\n",
       "      <td>1696.237548</td>\n",
       "      <td>34.314176</td>\n",
       "      <td>1269.498084</td>\n",
       "      <td>92.371644</td>\n",
       "      <td>508.301080</td>\n",
       "      <td>13.548895</td>\n",
       "    </tr>\n",
       "    <tr>\n",
       "      <th>std</th>\n",
       "      <td>0.0</td>\n",
       "      <td>959.878876</td>\n",
       "      <td>5194.581566</td>\n",
       "      <td>131.964626</td>\n",
       "      <td>811.218521</td>\n",
       "      <td>266.462235</td>\n",
       "      <td>1381.144292</td>\n",
       "      <td>45.920161</td>\n",
       "    </tr>\n",
       "    <tr>\n",
       "      <th>min</th>\n",
       "      <td>0.0</td>\n",
       "      <td>0.000000</td>\n",
       "      <td>3.000000</td>\n",
       "      <td>0.000000</td>\n",
       "      <td>6.000000</td>\n",
       "      <td>0.000000</td>\n",
       "      <td>6.144781</td>\n",
       "      <td>0.000000</td>\n",
       "    </tr>\n",
       "    <tr>\n",
       "      <th>25%</th>\n",
       "      <td>0.0</td>\n",
       "      <td>17.000000</td>\n",
       "      <td>112.000000</td>\n",
       "      <td>2.000000</td>\n",
       "      <td>598.000000</td>\n",
       "      <td>5.916920</td>\n",
       "      <td>43.267477</td>\n",
       "      <td>0.494803</td>\n",
       "    </tr>\n",
       "    <tr>\n",
       "      <th>50%</th>\n",
       "      <td>0.0</td>\n",
       "      <td>45.000000</td>\n",
       "      <td>297.000000</td>\n",
       "      <td>6.000000</td>\n",
       "      <td>1213.000000</td>\n",
       "      <td>18.507042</td>\n",
       "      <td>130.967239</td>\n",
       "      <td>2.388222</td>\n",
       "    </tr>\n",
       "    <tr>\n",
       "      <th>75%</th>\n",
       "      <td>0.0</td>\n",
       "      <td>126.000000</td>\n",
       "      <td>962.000000</td>\n",
       "      <td>16.000000</td>\n",
       "      <td>1920.000000</td>\n",
       "      <td>60.833333</td>\n",
       "      <td>370.748031</td>\n",
       "      <td>8.434874</td>\n",
       "    </tr>\n",
       "    <tr>\n",
       "      <th>max</th>\n",
       "      <td>0.0</td>\n",
       "      <td>9505.000000</td>\n",
       "      <td>55804.000000</td>\n",
       "      <td>1700.000000</td>\n",
       "      <td>3078.000000</td>\n",
       "      <td>2316.432990</td>\n",
       "      <td>13619.714286</td>\n",
       "      <td>573.571429</td>\n",
       "    </tr>\n",
       "  </tbody>\n",
       "</table>\n",
       "</div>"
      ],
      "text/plain": [
       "        Paid    Downloads         Views        Likes  Duration(Days)  \\\n",
       "count  261.0   261.000000    261.000000   261.000000      261.000000   \n",
       "mean     0.0   295.931034   1696.237548    34.314176     1269.498084   \n",
       "std      0.0   959.878876   5194.581566   131.964626      811.218521   \n",
       "min      0.0     0.000000      3.000000     0.000000        6.000000   \n",
       "25%      0.0    17.000000    112.000000     2.000000      598.000000   \n",
       "50%      0.0    45.000000    297.000000     6.000000     1213.000000   \n",
       "75%      0.0   126.000000    962.000000    16.000000     1920.000000   \n",
       "max      0.0  9505.000000  55804.000000  1700.000000     3078.000000   \n",
       "\n",
       "       Avg_Downloads_per_year  Avg_Views_per_year  Avg_Likes_per_year  \n",
       "count              261.000000          261.000000          261.000000  \n",
       "mean                92.371644          508.301080           13.548895  \n",
       "std                266.462235         1381.144292           45.920161  \n",
       "min                  0.000000            6.144781            0.000000  \n",
       "25%                  5.916920           43.267477            0.494803  \n",
       "50%                 18.507042          130.967239            2.388222  \n",
       "75%                 60.833333          370.748031            8.434874  \n",
       "max               2316.432990        13619.714286          573.571429  "
      ]
     },
     "execution_count": 205,
     "metadata": {},
     "output_type": "execute_result"
    }
   ],
   "source": [
    "# Statistics for the numeric attributes in the raw dataset\n",
    "rawDF.describe()"
   ]
  },
  {
   "cell_type": "code",
   "execution_count": 206,
   "metadata": {},
   "outputs": [
    {
     "data": {
      "text/html": [
       "<div>\n",
       "<style scoped>\n",
       "    .dataframe tbody tr th:only-of-type {\n",
       "        vertical-align: middle;\n",
       "    }\n",
       "\n",
       "    .dataframe tbody tr th {\n",
       "        vertical-align: top;\n",
       "    }\n",
       "\n",
       "    .dataframe thead th {\n",
       "        text-align: right;\n",
       "    }\n",
       "</style>\n",
       "<table border=\"1\" class=\"dataframe\">\n",
       "  <thead>\n",
       "    <tr style=\"text-align: right;\">\n",
       "      <th></th>\n",
       "      <th>Paid</th>\n",
       "      <th>Downloads</th>\n",
       "      <th>Views</th>\n",
       "      <th>Likes</th>\n",
       "      <th>Duration(Days)</th>\n",
       "      <th>Avg_Downloads_per_year</th>\n",
       "      <th>Avg_Views_per_year</th>\n",
       "      <th>Avg_Likes_per_year</th>\n",
       "    </tr>\n",
       "  </thead>\n",
       "  <tbody>\n",
       "    <tr>\n",
       "      <th>Paid</th>\n",
       "      <td>NaN</td>\n",
       "      <td>NaN</td>\n",
       "      <td>NaN</td>\n",
       "      <td>NaN</td>\n",
       "      <td>NaN</td>\n",
       "      <td>NaN</td>\n",
       "      <td>NaN</td>\n",
       "      <td>NaN</td>\n",
       "    </tr>\n",
       "    <tr>\n",
       "      <th>Downloads</th>\n",
       "      <td>NaN</td>\n",
       "      <td>1.000000</td>\n",
       "      <td>0.935890</td>\n",
       "      <td>0.920287</td>\n",
       "      <td>0.177509</td>\n",
       "      <td>0.802707</td>\n",
       "      <td>0.731416</td>\n",
       "      <td>0.523726</td>\n",
       "    </tr>\n",
       "    <tr>\n",
       "      <th>Views</th>\n",
       "      <td>NaN</td>\n",
       "      <td>0.935890</td>\n",
       "      <td>1.000000</td>\n",
       "      <td>0.934800</td>\n",
       "      <td>0.223524</td>\n",
       "      <td>0.695999</td>\n",
       "      <td>0.732531</td>\n",
       "      <td>0.500281</td>\n",
       "    </tr>\n",
       "    <tr>\n",
       "      <th>Likes</th>\n",
       "      <td>NaN</td>\n",
       "      <td>0.920287</td>\n",
       "      <td>0.934800</td>\n",
       "      <td>1.000000</td>\n",
       "      <td>0.151921</td>\n",
       "      <td>0.680471</td>\n",
       "      <td>0.685258</td>\n",
       "      <td>0.544839</td>\n",
       "    </tr>\n",
       "    <tr>\n",
       "      <th>Duration(Days)</th>\n",
       "      <td>NaN</td>\n",
       "      <td>0.177509</td>\n",
       "      <td>0.223524</td>\n",
       "      <td>0.151921</td>\n",
       "      <td>1.000000</td>\n",
       "      <td>-0.042961</td>\n",
       "      <td>-0.023439</td>\n",
       "      <td>-0.125998</td>\n",
       "    </tr>\n",
       "    <tr>\n",
       "      <th>Avg_Downloads_per_year</th>\n",
       "      <td>NaN</td>\n",
       "      <td>0.802707</td>\n",
       "      <td>0.695999</td>\n",
       "      <td>0.680471</td>\n",
       "      <td>-0.042961</td>\n",
       "      <td>1.000000</td>\n",
       "      <td>0.942570</td>\n",
       "      <td>0.839578</td>\n",
       "    </tr>\n",
       "    <tr>\n",
       "      <th>Avg_Views_per_year</th>\n",
       "      <td>NaN</td>\n",
       "      <td>0.731416</td>\n",
       "      <td>0.732531</td>\n",
       "      <td>0.685258</td>\n",
       "      <td>-0.023439</td>\n",
       "      <td>0.942570</td>\n",
       "      <td>1.000000</td>\n",
       "      <td>0.909461</td>\n",
       "    </tr>\n",
       "    <tr>\n",
       "      <th>Avg_Likes_per_year</th>\n",
       "      <td>NaN</td>\n",
       "      <td>0.523726</td>\n",
       "      <td>0.500281</td>\n",
       "      <td>0.544839</td>\n",
       "      <td>-0.125998</td>\n",
       "      <td>0.839578</td>\n",
       "      <td>0.909461</td>\n",
       "      <td>1.000000</td>\n",
       "    </tr>\n",
       "  </tbody>\n",
       "</table>\n",
       "</div>"
      ],
      "text/plain": [
       "                        Paid  Downloads     Views     Likes  Duration(Days)  \\\n",
       "Paid                     NaN        NaN       NaN       NaN             NaN   \n",
       "Downloads                NaN   1.000000  0.935890  0.920287        0.177509   \n",
       "Views                    NaN   0.935890  1.000000  0.934800        0.223524   \n",
       "Likes                    NaN   0.920287  0.934800  1.000000        0.151921   \n",
       "Duration(Days)           NaN   0.177509  0.223524  0.151921        1.000000   \n",
       "Avg_Downloads_per_year   NaN   0.802707  0.695999  0.680471       -0.042961   \n",
       "Avg_Views_per_year       NaN   0.731416  0.732531  0.685258       -0.023439   \n",
       "Avg_Likes_per_year       NaN   0.523726  0.500281  0.544839       -0.125998   \n",
       "\n",
       "                        Avg_Downloads_per_year  Avg_Views_per_year  \\\n",
       "Paid                                       NaN                 NaN   \n",
       "Downloads                             0.802707            0.731416   \n",
       "Views                                 0.695999            0.732531   \n",
       "Likes                                 0.680471            0.685258   \n",
       "Duration(Days)                       -0.042961           -0.023439   \n",
       "Avg_Downloads_per_year                1.000000            0.942570   \n",
       "Avg_Views_per_year                    0.942570            1.000000   \n",
       "Avg_Likes_per_year                    0.839578            0.909461   \n",
       "\n",
       "                        Avg_Likes_per_year  \n",
       "Paid                                   NaN  \n",
       "Downloads                         0.523726  \n",
       "Views                             0.500281  \n",
       "Likes                             0.544839  \n",
       "Duration(Days)                   -0.125998  \n",
       "Avg_Downloads_per_year            0.839578  \n",
       "Avg_Views_per_year                0.909461  \n",
       "Avg_Likes_per_year                1.000000  "
      ]
     },
     "execution_count": 206,
     "metadata": {},
     "output_type": "execute_result"
    }
   ],
   "source": [
    "# Correlation between the various columns in the dataset - numerical view\n",
    "rawDF.corr()"
   ]
  },
  {
   "cell_type": "code",
   "execution_count": 207,
   "metadata": {},
   "outputs": [
    {
     "data": {
      "text/plain": [
       "<Axes: >"
      ]
     },
     "execution_count": 207,
     "metadata": {},
     "output_type": "execute_result"
    },
    {
     "data": {
      "image/png": "[encoded data removed]",
      "text/plain": [
       "<Figure size 640x480 with 2 Axes>"
      ]
     },
     "metadata": {},
     "output_type": "display_data"
    }
   ],
   "source": [
    "# Correlation between the various columns in the dataset - heatmap view\n",
    "import seaborn as sb\n",
    "import numpy as np\n",
    "\n",
    "# Get correlation\n",
    "corr = rawDF.corr()\n",
    "\n",
    "# Create colour palette for chart\n",
    "cmap = sb.diverging_palette(230, 20, as_cmap=True)\n",
    "\n",
    "# Generate a mask for the upper triangle\n",
    "mask = np.triu(np.ones_like(corr, dtype=bool))\n",
    "\n",
    "# Draw the heatmap with the mask and correct aspect ratio\n",
    "sb.heatmap(corr, mask=mask, cmap=cmap, center=0,\n",
    "            square=True, yticklabels=True, linewidths=.5, cbar_kws={\"shrink\": .5})"
   ]
  },
  {
   "cell_type": "code",
   "execution_count": 208,
   "metadata": {},
   "outputs": [],
   "source": [
    "rawDF = rawDF.drop(['Duration(Days)', 'Paid'],axis=1)"
   ]
  },
  {
   "cell_type": "markdown",
   "metadata": {},
   "source": [
    "###Univariate Analysis"
   ]
  },
  {
   "cell_type": "code",
   "execution_count": 209,
   "metadata": {},
   "outputs": [
    {
     "data": {
      "text/plain": [
       "Downloads                 5.974360\n",
       "Views                     6.450602\n",
       "Likes                     9.084826\n",
       "Avg_Downloads_per_year    5.904313\n",
       "Avg_Views_per_year        6.120908\n",
       "Avg_Likes_per_year        8.525012\n",
       "dtype: float64"
      ]
     },
     "execution_count": 209,
     "metadata": {},
     "output_type": "execute_result"
    }
   ],
   "source": [
    "# Calculate skewness for each column\n",
    "# For skewness, if the value is greater than + 1.0, the distribution is right skewed. If the value is less than -1.0, the distribution is left skewed. \n",
    "rawDF.skew()"
   ]
  },
  {
   "cell_type": "code",
   "execution_count": 210,
   "metadata": {},
   "outputs": [
    {
     "data": {
      "text/plain": [
       "Downloads                  43.135264\n",
       "Views                      52.753593\n",
       "Likes                     102.670501\n",
       "Avg_Downloads_per_year     39.525860\n",
       "Avg_Views_per_year         44.910577\n",
       "Avg_Likes_per_year         91.313722\n",
       "dtype: float64"
      ]
     },
     "execution_count": 210,
     "metadata": {},
     "output_type": "execute_result"
    }
   ],
   "source": [
    "# Calculate kurtosis for each column\n",
    "# For kurtosis, if the value is greater than + 1.0, the distribution is leptokurtik. If the value is less than -1.0, the distribution is platykurtik.\n",
    "rawDF.kurtosis()"
   ]
  },
  {
   "cell_type": "code",
   "execution_count": 211,
   "metadata": {},
   "outputs": [],
   "source": [
    "rawDF = rawDF.drop(['Avg_Downloads_per_year', 'Avg_Views_per_year', 'Avg_Likes_per_year'],axis=1)"
   ]
  },
  {
   "cell_type": "code",
   "execution_count": 212,
   "metadata": {},
   "outputs": [],
   "source": [
    "import matplotlib.pyplot as plt\n",
    "from sklearn.model_selection import train_test_split\n",
    "import sklearn\n",
    "import keras\n",
    "from keras.models import Sequential\n",
    "from keras.layers import Dense\n",
    "import tensorflow as tf\n",
    "from sklearn.metrics import confusion_matrix,ConfusionMatrixDisplay\n",
    "from sklearn.preprocessing import MinMaxScaler"
   ]
  },
  {
   "cell_type": "code",
   "execution_count": 213,
   "metadata": {},
   "outputs": [],
   "source": [
    "raw_data_x = rawDF.drop(columns=['Downloads'])\n",
    "raw_data_y = rawDF['Downloads']"
   ]
  },
  {
   "cell_type": "code",
   "execution_count": 214,
   "metadata": {},
   "outputs": [],
   "source": [
    "# Min-Max normalization \n",
    "scaler = MinMaxScaler()\n",
    "scaler.fit(raw_data_x)\n",
    "t_raw_data_x = scaler.transform(raw_data_x)"
   ]
  },
  {
   "cell_type": "code",
   "execution_count": 215,
   "metadata": {},
   "outputs": [],
   "source": [
    "# split train and validation data \n",
    "X_train, X_test, y_train, y_test = train_test_split(t_raw_data_x, raw_data_y, test_size=0.25, random_state=0)"
   ]
  },
  {
   "cell_type": "code",
   "execution_count": 216,
   "metadata": {},
   "outputs": [
    {
     "name": "stdout",
     "output_type": "stream",
     "text": [
      "X_train: (195, 2)\n",
      "y_train: (195,)\n",
      "X_test: (66, 2)\n",
      "y_test: (66,)\n"
     ]
    }
   ],
   "source": [
    "print('X_train:',np.shape(X_train))\n",
    "print('y_train:',np.shape(y_train))\n",
    "print('X_test:',np.shape(X_test))\n",
    "print('y_test:',np.shape(y_test))"
   ]
  },
  {
   "cell_type": "markdown",
   "metadata": {},
   "source": [
    "### Initialize Sequential Model"
   ]
  },
  {
   "cell_type": "code",
   "execution_count": 217,
   "metadata": {},
   "outputs": [],
   "source": [
    "basic_model = Sequential()"
   ]
  },
  {
   "cell_type": "markdown",
   "metadata": {},
   "source": [
    "### Input Layer"
   ]
  },
  {
   "cell_type": "code",
   "execution_count": 218,
   "metadata": {},
   "outputs": [
    {
     "name": "stderr",
     "output_type": "stream",
     "text": [
      "c:\\Users\\yyang\\AppData\\Local\\Programs\\Python\\Python312\\Lib\\site-packages\\keras\\src\\layers\\core\\dense.py:85: UserWarning: Do not pass an `input_shape`/`input_dim` argument to a layer. When using Sequential models, prefer using an `Input(shape)` object as the first layer in the model instead.\n",
      "  super().__init__(activity_regularizer=activity_regularizer, **kwargs)\n"
     ]
    }
   ],
   "source": [
    "basic_model.add(Dense(units=16, activation='relu', input_shape=(2,)))"
   ]
  },
  {
   "cell_type": "markdown",
   "metadata": {},
   "source": [
    "### Output Layer"
   ]
  },
  {
   "cell_type": "code",
   "execution_count": 219,
   "metadata": {},
   "outputs": [],
   "source": [
    "basic_model.add(Dense(1, activation='sigmoid'))"
   ]
  },
  {
   "cell_type": "markdown",
   "metadata": {},
   "source": [
    "### Optimizer"
   ]
  },
  {
   "cell_type": "code",
   "execution_count": 220,
   "metadata": {},
   "outputs": [],
   "source": [
    "adam = keras.optimizers.Adam(learning_rate=0.001)"
   ]
  },
  {
   "cell_type": "markdown",
   "metadata": {},
   "source": [
    "### Compile Model"
   ]
  },
  {
   "cell_type": "code",
   "execution_count": 221,
   "metadata": {},
   "outputs": [],
   "source": [
    "basic_model.compile(loss='binary_crossentropy', optimizer=adam, metrics=[\"accuracy\"])"
   ]
  },
  {
   "cell_type": "code",
   "execution_count": 222,
   "metadata": {},
   "outputs": [
    {
     "name": "stdout",
     "output_type": "stream",
     "text": [
      "Epoch 1/20\n"
     ]
    },
    {
     "name": "stdout",
     "output_type": "stream",
     "text": [
      "\u001b[1m7/7\u001b[0m \u001b[32m━━━━━━━━━━━━━━━━━━━━\u001b[0m\u001b[37m\u001b[0m \u001b[1m1s\u001b[0m 2ms/step - accuracy: 0.0295 - loss: 30.0442     \n",
      "Epoch 2/20\n",
      "\u001b[1m7/7\u001b[0m \u001b[32m━━━━━━━━━━━━━━━━━━━━\u001b[0m\u001b[37m\u001b[0m \u001b[1m0s\u001b[0m 1ms/step - accuracy: 0.0192 - loss: 40.5625      \n",
      "Epoch 3/20\n",
      "\u001b[1m7/7\u001b[0m \u001b[32m━━━━━━━━━━━━━━━━━━━━\u001b[0m\u001b[37m\u001b[0m \u001b[1m0s\u001b[0m 1ms/step - accuracy: 0.0259 - loss: 11.5346     \n",
      "Epoch 4/20\n",
      "\u001b[1m7/7\u001b[0m \u001b[32m━━━━━━━━━━━━━━━━━━━━\u001b[0m\u001b[37m\u001b[0m \u001b[1m0s\u001b[0m 1ms/step - accuracy: 0.0185 - loss: 16.5204     \n",
      "Epoch 5/20\n",
      "\u001b[1m7/7\u001b[0m \u001b[32m━━━━━━━━━━━━━━━━━━━━\u001b[0m\u001b[37m\u001b[0m \u001b[1m0s\u001b[0m 1ms/step - accuracy: 0.0472 - loss: 0.7330  \n",
      "Epoch 6/20\n",
      "\u001b[1m7/7\u001b[0m \u001b[32m━━━━━━━━━━━━━━━━━━━━\u001b[0m\u001b[37m\u001b[0m \u001b[1m0s\u001b[0m 2ms/step - accuracy: 0.0342 - loss: -14.5327 \n",
      "Epoch 7/20\n",
      "\u001b[1m7/7\u001b[0m \u001b[32m━━━━━━━━━━━━━━━━━━━━\u001b[0m\u001b[37m\u001b[0m \u001b[1m0s\u001b[0m 2ms/step - accuracy: 0.0289 - loss: -23.9717 \n",
      "Epoch 8/20\n",
      "\u001b[1m7/7\u001b[0m \u001b[32m━━━━━━━━━━━━━━━━━━━━\u001b[0m\u001b[37m\u001b[0m \u001b[1m0s\u001b[0m 1ms/step - accuracy: 0.0225 - loss: -26.1968     \n",
      "Epoch 9/20\n",
      "\u001b[1m7/7\u001b[0m \u001b[32m━━━━━━━━━━━━━━━━━━━━\u001b[0m\u001b[37m\u001b[0m \u001b[1m0s\u001b[0m 1ms/step - accuracy: 0.0243 - loss: -34.6099     \n",
      "Epoch 10/20\n",
      "\u001b[1m7/7\u001b[0m \u001b[32m━━━━━━━━━━━━━━━━━━━━\u001b[0m\u001b[37m\u001b[0m \u001b[1m0s\u001b[0m 2ms/step - accuracy: 0.0323 - loss: -39.9209 \n",
      "Epoch 11/20\n",
      "\u001b[1m7/7\u001b[0m \u001b[32m━━━━━━━━━━━━━━━━━━━━\u001b[0m\u001b[37m\u001b[0m \u001b[1m0s\u001b[0m 1ms/step - accuracy: 0.0269 - loss: -44.3875 \n",
      "Epoch 12/20\n",
      "\u001b[1m7/7\u001b[0m \u001b[32m━━━━━━━━━━━━━━━━━━━━\u001b[0m\u001b[37m\u001b[0m \u001b[1m0s\u001b[0m 1ms/step - accuracy: 0.0279 - loss: -62.8763 \n",
      "Epoch 13/20\n",
      "\u001b[1m7/7\u001b[0m \u001b[32m━━━━━━━━━━━━━━━━━━━━\u001b[0m\u001b[37m\u001b[0m \u001b[1m0s\u001b[0m 1ms/step - accuracy: 0.0257 - loss: -74.8547      \n",
      "Epoch 14/20\n",
      "\u001b[1m7/7\u001b[0m \u001b[32m━━━━━━━━━━━━━━━━━━━━\u001b[0m\u001b[37m\u001b[0m \u001b[1m0s\u001b[0m 1ms/step - accuracy: 0.0348 - loss: -77.6429 \n",
      "Epoch 15/20\n",
      "\u001b[1m7/7\u001b[0m \u001b[32m━━━━━━━━━━━━━━━━━━━━\u001b[0m\u001b[37m\u001b[0m \u001b[1m0s\u001b[0m 1ms/step - accuracy: 0.0240 - loss: -95.9630 \n",
      "Epoch 16/20\n",
      "\u001b[1m7/7\u001b[0m \u001b[32m━━━━━━━━━━━━━━━━━━━━\u001b[0m\u001b[37m\u001b[0m \u001b[1m0s\u001b[0m 2ms/step - accuracy: 0.0387 - loss: -94.9299 \n",
      "Epoch 17/20\n",
      "\u001b[1m7/7\u001b[0m \u001b[32m━━━━━━━━━━━━━━━━━━━━\u001b[0m\u001b[37m\u001b[0m \u001b[1m0s\u001b[0m 1ms/step - accuracy: 0.0292 - loss: -130.5697 \n",
      "Epoch 18/20\n",
      "\u001b[1m7/7\u001b[0m \u001b[32m━━━━━━━━━━━━━━━━━━━━\u001b[0m\u001b[37m\u001b[0m \u001b[1m0s\u001b[0m 1ms/step - accuracy: 0.0271 - loss: -134.0739     \n",
      "Epoch 19/20\n",
      "\u001b[1m7/7\u001b[0m \u001b[32m━━━━━━━━━━━━━━━━━━━━\u001b[0m\u001b[37m\u001b[0m \u001b[1m0s\u001b[0m 1ms/step - accuracy: 0.0272 - loss: -108.9700    \n",
      "Epoch 20/20\n",
      "\u001b[1m7/7\u001b[0m \u001b[32m━━━━━━━━━━━━━━━━━━━━\u001b[0m\u001b[37m\u001b[0m \u001b[1m0s\u001b[0m 1ms/step - accuracy: 0.0195 - loss: -179.8750     \n"
     ]
    },
    {
     "data": {
      "text/plain": [
       "<keras.src.callbacks.history.History at 0x1f456ca6e10>"
      ]
     },
     "execution_count": 222,
     "metadata": {},
     "output_type": "execute_result"
    }
   ],
   "source": [
    "basic_model.fit(X_train, y_train, epochs=20)"
   ]
  },
  {
   "cell_type": "code",
   "execution_count": 223,
   "metadata": {},
   "outputs": [
    {
     "name": "stdout",
     "output_type": "stream",
     "text": [
      "\u001b[1m3/3\u001b[0m \u001b[32m━━━━━━━━━━━━━━━━━━━━\u001b[0m\u001b[37m\u001b[0m \u001b[1m0s\u001b[0m 2ms/step - accuracy: 0.0115 - loss: -124.0537      \n",
      "[-102.93486785888672, 0.01515151560306549]\n",
      "Loss =  -102.93486785888672\n",
      "Accuracy =  0.01515151560306549\n"
     ]
    }
   ],
   "source": [
    "# Loss Function\n",
    "loss_and_metrics = basic_model.evaluate(X_test, y_test)\n",
    "print(loss_and_metrics)\n",
    "print('Loss = ',loss_and_metrics[0])\n",
    "print('Accuracy = ',loss_and_metrics[1])"
   ]
  }
 ],
 "metadata": {
  "kernelspec": {
   "display_name": "Python 3",
   "language": "python",
   "name": "python3"
  },
  "language_info": {
   "codemirror_mode": {
    "name": "ipython",
    "version": 3
   },
   "file_extension": ".py",
   "mimetype": "text/x-python",
   "name": "python",
   "nbconvert_exporter": "python",
   "pygments_lexer": "ipython3",
   "version": "3.12.2"
  }
 },
 "nbformat": 4,
 "nbformat_minor": 2
}
